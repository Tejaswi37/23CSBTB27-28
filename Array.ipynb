{
  "nbformat": 4,
  "nbformat_minor": 0,
  "metadata": {
    "colab": {
      "provenance": [],
      "authorship_tag": "ABX9TyM47clqYUQ0vWirK97fuwYP",
      "include_colab_link": true
    },
    "kernelspec": {
      "name": "python3",
      "display_name": "Python 3"
    },
    "language_info": {
      "name": "python"
    }
  },
  "cells": [
    {
      "cell_type": "markdown",
      "metadata": {
        "id": "view-in-github",
        "colab_type": "text"
      },
      "source": [
        "<a href=\"https://colab.research.google.com/github/Tejaswi37/23CSBTB27-28/blob/main/Array.ipynb\" target=\"_parent\"><img src=\"https://colab.research.google.com/assets/colab-badge.svg\" alt=\"Open In Colab\"/></a>"
      ]
    },
    {
      "cell_type": "code",
      "execution_count": 1,
      "metadata": {
        "colab": {
          "base_uri": "https://localhost:8080/"
        },
        "id": "__8geIs040U-",
        "outputId": "0bb07335-ae2b-456f-c564-c4e1b4ce30bb"
      },
      "outputs": [
        {
          "output_type": "stream",
          "name": "stdout",
          "text": [
            "[[1 2]\n",
            " [3 6]]\n",
            "[[1 2 3]\n",
            " [4 5 6]\n",
            " [7 8 9]]\n",
            "[[1 2 3]\n",
            " [4 5 6]\n",
            " [7 8 9]]\n",
            "[[1 2 9]\n",
            " [4 2 6]\n",
            " [7 8 9]]\n",
            "[[ 2  4 12]\n",
            " [ 8  7 12]\n",
            " [14 16 18]]\n",
            "[[ 0  0 -6]\n",
            " [ 0  3  0]\n",
            " [ 0  0  0]]\n",
            "[[ 1  4 27]\n",
            " [16 10 36]\n",
            " [49 64 81]]\n",
            "[[1.         1.         0.33333333]\n",
            " [1.         2.5        1.        ]\n",
            " [1.         1.         1.        ]]\n"
          ]
        }
      ],
      "source": [
        "import numpy as np\n",
        "arr=np.array([[1,2],[3,6]])\n",
        "print(arr)\n",
        "arr1=arr=np.array([[1,2,3],[4,5,6],[7,8,9]])\n",
        "print(arr1)\n",
        "arr2=arr=np.array([[1,2,9],[4,2,6],[7,8,9]])\n",
        "print(arr1)\n",
        "print(arr2)\n",
        "print(np.add(arr1,arr2))\n",
        "print(np.subtract(arr1,arr2))\n",
        "print(np.multiply(arr1, arr2))\n",
        "print(np.divide(arr1,arr2))"
      ]
    }
  ]
}